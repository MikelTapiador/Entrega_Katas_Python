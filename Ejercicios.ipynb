{
 "cells": [
  {
   "cell_type": "markdown",
   "id": "4d1b6c1b",
   "metadata": {},
   "source": [
    "## Katas Python"
   ]
  },
  {
   "cell_type": "markdown",
   "id": "0f3ec93c",
   "metadata": {},
   "source": [
    "1.Escribe una función que reciba una cadena de texto como parámetro y devuelva un diccionario con las frecuencias\n",
    "de cada letra en la cadena. Los espacios no deben ser considerados.\n"
   ]
  },
  {
   "cell_type": "code",
   "execution_count": 6,
   "id": "67788c7c",
   "metadata": {},
   "outputs": [
    {
     "data": {
      "text/plain": [
       "{'H': 1, 'o': 2, 'l': 4, 'a': 2, 'm': 2, 'e': 2, 'M': 1, 'i': 1, 'k': 1}"
      ]
     },
     "execution_count": 6,
     "metadata": {},
     "output_type": "execute_result"
    }
   ],
   "source": [
    "def frecuencias(string):\n",
    "    \"\"\"Funcion que calcula frecuencia de letras en un string\n",
    "\n",
    "    Args:\n",
    "        Los argumentos han de ser strings\n",
    "\n",
    "    Returns:\n",
    "        Devuelve un diccionario con la frecuencia de cada letra\n",
    "    \"\"\"\n",
    "    dict_frecuencias= {}\n",
    "    for letra in string.replace(\" \",\"\"):\n",
    "        if letra in dict_frecuencias:\n",
    "            dict_frecuencias[letra] +=1\n",
    "        else: \n",
    "            dict_frecuencias[letra] = 1\n",
    "    return dict_frecuencias\n",
    "\n",
    "frecuencias(\"Hola me llamo Mikel\")"
   ]
  },
  {
   "cell_type": "markdown",
   "id": "d640007e",
   "metadata": {},
   "source": [
    "2.Dada una lista de números, obtén una nueva lista con el doble de cada valor. Usa la función map()"
   ]
  },
  {
   "cell_type": "code",
   "execution_count": 7,
   "id": "47f748e3",
   "metadata": {},
   "outputs": [
    {
     "data": {
      "text/plain": [
       "[2, 4, 6, 8, 10, 12, 14]"
      ]
     },
     "execution_count": 7,
     "metadata": {},
     "output_type": "execute_result"
    }
   ],
   "source": [
    "lista = [1,2,3,4,5,6,7]\n",
    "def doblar(numero):\n",
    "    \"\"\"Funcion que dobla el numero dado\n",
    "\n",
    "    Args:\n",
    "        Un numero\n",
    "\n",
    "    Returns:\n",
    "        Devuelve el numero doblado\n",
    "    \"\"\"\n",
    "    numero_doblado = numero * 2\n",
    "    return numero_doblado\n",
    "\n",
    "resultado = list(map(doblar,lista))\n",
    "resultado\n"
   ]
  },
  {
   "cell_type": "markdown",
   "id": "09e230cf",
   "metadata": {},
   "source": [
    "3.Escribe una función que tome una lista de palabras y una palabra objetivo como parámetros. La función debe\n",
    "devolver una lista con todas las palabras de la lista original que contengan la palabra objetivo"
   ]
  },
  {
   "cell_type": "code",
   "execution_count": 8,
   "id": "1c2edfd3",
   "metadata": {},
   "outputs": [
    {
     "data": {
      "text/plain": [
       "['Mikel', 'Mikel', 'Mikel']"
      ]
     },
     "execution_count": 8,
     "metadata": {},
     "output_type": "execute_result"
    }
   ],
   "source": [
    "def devolver_lista_palabras(lista_palabras,palabra_objetivo):\n",
    "    \"\"\"Funcion que devuelve una lista de la palabra objetivo de una lista\n",
    "\n",
    "    Args:\n",
    "        lista_palabras (_type_): _description_\n",
    "        palabra_objetivo (_type_): _description_\n",
    "\n",
    "    Returns:\n",
    "        Lista de palabras que contenian la palabra objetivo\n",
    "    \"\"\"\n",
    "    lista_vacia= []\n",
    "    for palabra in lista_palabras:\n",
    "        if palabra_objetivo in palabra:\n",
    "            lista_vacia.append(palabra)\n",
    "    return lista_vacia\n",
    "\n",
    "lista1= [\"Hola\", \"me\", \"llamo\", \"llamo\",\"Mikel\",\"Mikel\",\"Mikel\"]\n",
    "palabra1= \"Mikel\"\n",
    "\n",
    "resultado = devolver_lista_palabras(lista1,palabra1)\n",
    "resultado"
   ]
  },
  {
   "cell_type": "markdown",
   "id": "71e6c3b4",
   "metadata": {},
   "source": [
    " 4.Genera una función que calcule la diferencia entre los valores de dos listas. Usa la función map()\n"
   ]
  },
  {
   "cell_type": "code",
   "execution_count": 9,
   "id": "30766105",
   "metadata": {},
   "outputs": [
    {
     "data": {
      "text/plain": [
       "[5, 3, 1, -1, -3, -5]"
      ]
     },
     "execution_count": 9,
     "metadata": {},
     "output_type": "execute_result"
    }
   ],
   "source": [
    "def diferencia_valores(lista1,lista2):\n",
    "    \"\"\"Funcion que recoge dos lista y hace la diferencia entre ambos valores. Utilizamos map y lambda para poder escribir la funcion\n",
    "\n",
    "    Args:\n",
    "        lista1 (_type_): _description_\n",
    "        lista2 (_type_): _description_\n",
    "    \"\"\"\n",
    "    return(list(map(lambda x,y:x - y,lista1,lista2)))\n",
    "\n",
    "a= [1,2,3,4,5,6]\n",
    "b= [6,5,4,3,2,1]\n",
    "\n",
    "resultado = diferencia_valores(b,a)\n",
    "resultado"
   ]
  },
  {
   "cell_type": "markdown",
   "id": "0e4e6978",
   "metadata": {},
   "source": [
    "5.Ecribe una función que tome una lista de números como parámetro y un valor opcional nota_aprobado, que por\n",
    "defecto es 5. La función debe calcular la media de los números en la lista y determinar si la media es mayor o igual\n",
    "que nota aprobado. Si es así, el estado será \"aprobado\", de lo contrario, será \"suspenso\". La función debe devolver\n",
    "una tupla que contenga la media y el estado.\n"
   ]
  },
  {
   "cell_type": "code",
   "execution_count": 10,
   "id": "b7c65af9",
   "metadata": {},
   "outputs": [
    {
     "data": {
      "text/plain": [
       "(3.6666666666666665, 'El resultado es suspenso')"
      ]
     },
     "execution_count": 10,
     "metadata": {},
     "output_type": "execute_result"
    }
   ],
   "source": [
    "def nota(lista_notas, nota_aprobado=5):\n",
    "    \"\"\"Funcion que calcula la media de una lista de notas y te dice si estas aprobado o suspenso\n",
    "\n",
    "    Args:\n",
    "        lista_notas (_type_): _description_\n",
    "        nota_aprobado (int, optional): _description_. Defaults to 5.\n",
    "\n",
    "    Returns:\n",
    "        _type_: _Devuelve la media de las notas y te dice si estas aprobado o suspenso\n",
    "    \"\"\"\n",
    "    media= sum(lista_notas)/len(lista_notas)\n",
    "    if media > nota_aprobado:\n",
    "        return (media,\"El estado es aprobado\")\n",
    "    else:\n",
    "        return(media,\"El resultado es suspenso\")\n",
    "    \n",
    "notas1= [5,6,7,8,9,5]\n",
    "notas2=[3,5,4,6,2,2]\n",
    "\n",
    "resultado= nota(notas2)\n",
    "resultado\n"
   ]
  },
  {
   "cell_type": "markdown",
   "id": "6c9d1585",
   "metadata": {},
   "source": [
    "6.Escribe una función que calcule el factorial de un número de manera recursiva."
   ]
  },
  {
   "cell_type": "code",
   "execution_count": 11,
   "id": "4d611ff6",
   "metadata": {},
   "outputs": [
    {
     "data": {
      "text/plain": [
       "1"
      ]
     },
     "execution_count": 11,
     "metadata": {},
     "output_type": "execute_result"
    }
   ],
   "source": [
    "def factorial(numero):\n",
    "    \"\"\"Funcion que calcula el factorial de un numero dado\n",
    "\n",
    "    Args:\n",
    "        numero (_type_): int\n",
    "\n",
    "    Returns:\n",
    "        _type_: Devuelve el factorial\n",
    "    \"\"\"\n",
    "    if numero == 0 or numero ==1:\n",
    "        return 1\n",
    "    return numero * factorial(numero -1)\n",
    "\n",
    "factorial(0)\n"
   ]
  },
  {
   "cell_type": "markdown",
   "id": "e2ff569d",
   "metadata": {},
   "source": [
    "7.Genera una función que convierta una lista de tuplas a una lista de strings. Usa la función m"
   ]
  },
  {
   "cell_type": "code",
   "execution_count": 12,
   "id": "33a74ece",
   "metadata": {},
   "outputs": [
    {
     "data": {
      "text/plain": [
       "str"
      ]
     },
     "execution_count": 12,
     "metadata": {},
     "output_type": "execute_result"
    }
   ],
   "source": [
    "def convertir_en_string(tupla):\n",
    "    \"\"\"Funcion que convierte una tupla en string\n",
    "\n",
    "    Args:\n",
    "        tupla (_type_): Una tupla\n",
    "\n",
    "    Returns:\n",
    "        _type_: Devuelve un string\n",
    "    \"\"\"\n",
    "    return str(tupla)\n",
    "\n",
    "lista_de_tuplas=[(1,2,3),(4,5,6)]\n",
    "\n",
    "lista_de_strings = list(map(convertir_en_string,lista_de_tuplas))\n",
    "type(lista_de_strings[0])"
   ]
  },
  {
   "cell_type": "markdown",
   "id": "204e1dbb",
   "metadata": {},
   "source": [
    " 8.Escribe un programa que pida al usuario dos números e intente dividirlos. Si el usuario ingresa un valor no numérico\n",
    "o intenta dividir por cero, maneja esas excepciones de manera adecuada. Asegúrate de mostrar un mensaje\n",
    "indicando si la división fue exitosa o no.\n"
   ]
  },
  {
   "cell_type": "code",
   "execution_count": null,
   "id": "c9dcb803",
   "metadata": {},
   "outputs": [],
   "source": [
    "try:\n",
    "    \n",
    "    numero1 = int(input(\"Ingresa un numero:\"))\n",
    "    numero2 = int(input(\"Ingresa un numero:\"))\n",
    "    division = numero1/numero2\n",
    "    print(f\"la division fue exitosa el resultado es : {division}\")\n",
    "except ValueError:\n",
    "    print(\"La division no fue exitosa, introduce un numero\")\n",
    "except ZeroDivisionError:\n",
    "    print(\"No se puede dividir por 0\")\n",
    "\n",
    "\n",
    "##Pedimos al usuario que meta dos numeros y si no mete un numero o divide entre 0 le salta el error adecuado"
   ]
  },
  {
   "cell_type": "markdown",
   "id": "f29eaf88",
   "metadata": {},
   "source": [
    " 9.Escribe una función que tome una lista de nombres de mascotas como parámetro y devuelva una nueva lista\n",
    "excluyendo ciertas mascotas prohibidas en España. La lista de mascotas a excluir es [\"Mapache\", \"Tigre\",\n",
    "\"Serpiente Pitón\", \"Cocodrilo\", \"Oso\"].Usa la función filter()\n"
   ]
  },
  {
   "cell_type": "code",
   "execution_count": null,
   "id": "2d5ab04e",
   "metadata": {},
   "outputs": [
    {
     "data": {
      "text/plain": [
       "['cabra', 'lobo', 'vaca']"
      ]
     },
     "execution_count": 78,
     "metadata": {},
     "output_type": "execute_result"
    }
   ],
   "source": [
    "def filtrar_mascotas(lista):\n",
    "\n",
    "    lista_de_mascotas_a_excluir= [\"Mapache\", \"Tigre\",\"Serpiente Pitón\", \"Cocodrilo\", \"Oso\"]\n",
    "\n",
    "    return(list(filter(lambda mascota: mascota not in lista_de_mascotas_a_excluir,lista )))\n",
    "\n",
    "lista_mascotas = [\"Mapache\", \"Tigre\",\"Serpiente Pitón\", \"Cocodrilo\", \"Oso\",\"cabra\",\"lobo\",\"vaca\"]\n",
    "\n",
    "filtrar_mascotas(lista_mascotas)"
   ]
  },
  {
   "cell_type": "markdown",
   "id": "fcd82907",
   "metadata": {},
   "source": [
    "10.Escribe una función que reciba una lista de números y calcule su promedio. Si la lista está vacía, lanza una\n",
    "excepción personalizada y maneja el error adecuadamente.\n"
   ]
  },
  {
   "cell_type": "code",
   "execution_count": null,
   "id": "14593639",
   "metadata": {},
   "outputs": [
    {
     "name": "stdout",
     "output_type": "stream",
     "text": [
      "Hay que meter una lista llena\n",
      "3\n"
     ]
    }
   ],
   "source": [
    "def promedio_numeros(lista):\n",
    "    try:\n",
    "        media = int(sum(lista)/len(lista))\n",
    "        return media\n",
    "    except ZeroDivisionError:\n",
    "       print(\"Hay que meter una lista llena\")\n",
    "\n",
    "lista_vacia = []\n",
    "lista_llena = [1,2,3,4,5]\n",
    "\n",
    "\n",
    "resultado1 = promedio_numeros(lista_llena)\n",
    "resultado2 = promedio_numeros(lista_vacia)\n",
    "\n",
    "print(resultado1)\n",
    "## No se si he manejado bien el error. Me salta none cuando hago print de resultado2"
   ]
  },
  {
   "cell_type": "code",
   "execution_count": 5,
   "id": "78c51fd3",
   "metadata": {},
   "outputs": [
    {
     "name": "stdout",
     "output_type": "stream",
     "text": [
      "3.0\n"
     ]
    },
    {
     "ename": "ListaVaciaError",
     "evalue": "La lista no puede estar vacía",
     "output_type": "error",
     "traceback": [
      "\u001b[31m---------------------------------------------------------------------------\u001b[39m",
      "\u001b[31mListaVaciaError\u001b[39m                           Traceback (most recent call last)",
      "\u001b[36mCell\u001b[39m\u001b[36m \u001b[39m\u001b[32mIn[5]\u001b[39m\u001b[32m, line 16\u001b[39m\n\u001b[32m     14\u001b[39m resultado1 = promedio_numeros(lista_llena)\n\u001b[32m     15\u001b[39m \u001b[38;5;28mprint\u001b[39m(resultado1)\n\u001b[32m---> \u001b[39m\u001b[32m16\u001b[39m resultados2 = \u001b[43mpromedio_numeros\u001b[49m\u001b[43m(\u001b[49m\u001b[43mlista_vacia\u001b[49m\u001b[43m)\u001b[49m\n",
      "\u001b[36mCell\u001b[39m\u001b[36m \u001b[39m\u001b[32mIn[5]\u001b[39m\u001b[32m, line 6\u001b[39m, in \u001b[36mpromedio_numeros\u001b[39m\u001b[34m(lista)\u001b[39m\n\u001b[32m      4\u001b[39m \u001b[38;5;28;01mdef\u001b[39;00m\u001b[38;5;250m \u001b[39m\u001b[34mpromedio_numeros\u001b[39m(lista):\n\u001b[32m      5\u001b[39m     \u001b[38;5;28;01mif\u001b[39;00m \u001b[38;5;129;01mnot\u001b[39;00m lista:\n\u001b[32m----> \u001b[39m\u001b[32m6\u001b[39m         \u001b[38;5;28;01mraise\u001b[39;00m ListaVaciaError(\u001b[33m\"\u001b[39m\u001b[33mLa lista no puede estar vacía\u001b[39m\u001b[33m\"\u001b[39m)\n\u001b[32m      7\u001b[39m     media = \u001b[38;5;28msum\u001b[39m(lista)/\u001b[38;5;28mlen\u001b[39m(lista)\n\u001b[32m      8\u001b[39m     \u001b[38;5;28;01mreturn\u001b[39;00m media\n",
      "\u001b[31mListaVaciaError\u001b[39m: La lista no puede estar vacía"
     ]
    }
   ],
   "source": [
    "class ListaVaciaError(Exception):\n",
    "    pass\n",
    "\n",
    "def promedio_numeros(lista):\n",
    "    if not lista:\n",
    "        raise ListaVaciaError(\"La lista no puede estar vacía\")\n",
    "    media = sum(lista)/len(lista)\n",
    "    return media\n",
    "\n",
    "lista_vacia = []\n",
    "lista_llena = [1,2,3,4,5]\n",
    "\n",
    "\n",
    "resultado1 = promedio_numeros(lista_llena)\n",
    "print(resultado1)\n",
    "resultados2 = promedio_numeros(lista_vacia)"
   ]
  },
  {
   "cell_type": "markdown",
   "id": "d9f61222",
   "metadata": {},
   "source": [
    "11.Escribe un programa que pida al usuario que introduzca su edad. Si el usuario ingresa un valor no numérico o un\n",
    "valor fuera del rango esperado (por ejemplo, menor que 0 o mayor que 120), maneja las excepciones\n",
    "adecuadamente.\n"
   ]
  },
  {
   "cell_type": "code",
   "execution_count": null,
   "id": "074e15f0",
   "metadata": {},
   "outputs": [
    {
     "name": "stdout",
     "output_type": "stream",
     "text": [
      "Introduce un valor numerico\n"
     ]
    }
   ],
   "source": [
    "try:\n",
    "    edad = int(input(\"Introduzca su edad:\"))\n",
    "    if 0< edad < 120:\n",
    "        print(f\"la persona tiene {edad} años\")\n",
    "    else:\n",
    "        print(f\"la edad tiene que estar entre 0 y 120 años\")\n",
    "except ValueError:\n",
    "    print(\"Introduce un valor numerico\")\n"
   ]
  },
  {
   "cell_type": "markdown",
   "id": "cf1c734e",
   "metadata": {},
   "source": [
    "12.Genera una función que al recibir una frase devuelva una lista con la longitud de cada palabra. Usa la función map()"
   ]
  },
  {
   "cell_type": "code",
   "execution_count": 7,
   "id": "60d76aba",
   "metadata": {},
   "outputs": [
    {
     "data": {
      "text/plain": [
       "[4, 2, 5, 5]"
      ]
     },
     "execution_count": 7,
     "metadata": {},
     "output_type": "execute_result"
    }
   ],
   "source": [
    "def longitud_palabra(palabra):\n",
    "\n",
    "    return len(palabra)\n",
    "\n",
    "frase1 = \"Hola me llamo Mikel\"\n",
    "palabras = list(frase1.split())\n",
    "\n",
    "resultado = list(map(longitud_palabra,palabras))\n",
    "resultado"
   ]
  },
  {
   "cell_type": "code",
   "execution_count": null,
   "id": "921b2a33",
   "metadata": {},
   "outputs": [
    {
     "data": {
      "text/plain": [
       "[4, 2, 5, 5]"
      ]
     },
     "execution_count": 130,
     "metadata": {},
     "output_type": "execute_result"
    }
   ],
   "source": [
    "def longitud_palabra(frase):\n",
    "    frase = list(frase.split())\n",
    "    return list(map(len,frase))\n",
    "\n",
    "frase1 = \"Hola me llamo Mikel\"\n",
    "resultado = longitud_palabra(frase1)\n",
    "resultado"
   ]
  },
  {
   "cell_type": "markdown",
   "id": "9a1c0e8a",
   "metadata": {},
   "source": [
    "13.Genera una función la cual, para un conjunto de caracteres, devuelva una lista de tuplas con cada letra en\n",
    "mayúsculas y minúsculas. Las letras no pueden estar repetidas .Usa la función map()"
   ]
  },
  {
   "cell_type": "code",
   "execution_count": null,
   "id": "086a801c",
   "metadata": {},
   "outputs": [
    {
     "name": "stdout",
     "output_type": "stream",
     "text": [
      "[('C', 'c'), ('A', 'a'), ('B', 'b')]\n"
     ]
    }
   ],
   "source": [
    "def mayus_minus(conjunto_caracteres):\n",
    "    unicos = set(map(str.lower,conjunto_caracteres))\n",
    "    tuplas = map(lambda caracter: (caracter.upper(), caracter.lower()), unicos)\n",
    "    return list(tuplas)\n",
    "\n",
    "conjunto1 = [\"a\", \"A\", \"b\", \"B\", \"c\", \"C\", \"A\", \"b\", \"c\"]\n",
    "\n",
    "print (mayus_minus(conjunto1))"
   ]
  },
  {
   "cell_type": "markdown",
   "id": "1ddb86b5",
   "metadata": {},
   "source": [
    "14. Crea una función que retorne las palabras de una lista de palabras que comience con una letra en especifico. Usa la\n",
    "función filter()\n"
   ]
  },
  {
   "cell_type": "code",
   "execution_count": null,
   "id": "f2615149",
   "metadata": {},
   "outputs": [
    {
     "name": "stdout",
     "output_type": "stream",
     "text": [
      "['manzana', 'melon']\n"
     ]
    }
   ],
   "source": [
    "def filtrar_mayus(palabras,letra):\n",
    "    resultado = filter(lambda p: p.startswith(letra), palabras)\n",
    "    return list(resultado)\n",
    "\n",
    "\n",
    "lista = [\"manzana\", \"melon\", \"sandia\", \"fresa\"]\n",
    "\n",
    "print(filtrar_mayus(lista, \"m\"))"
   ]
  },
  {
   "cell_type": "markdown",
   "id": "1feb819f",
   "metadata": {},
   "source": [
    "15. Crea una función lambda que sume 3 a cada número de una lista dada.\n"
   ]
  },
  {
   "cell_type": "code",
   "execution_count": null,
   "id": "daf37e22",
   "metadata": {},
   "outputs": [
    {
     "data": {
      "text/plain": [
       "[4, 5, 6, 7, 13, 23]"
      ]
     },
     "execution_count": 12,
     "metadata": {},
     "output_type": "execute_result"
    }
   ],
   "source": [
    "lista = [1,2,3,4,10,20]\n",
    "\n",
    "funcion = list(map(lambda numero: numero +3,lista))\n",
    "funcion"
   ]
  },
  {
   "cell_type": "markdown",
   "id": "51f2517c",
   "metadata": {},
   "source": [
    "16. Escribe una función que tome una cadena de texto y un número entero n como parámetros y devuelva una lista de\n",
    "todas las palabras que sean más largas que n. Usa la función filter()\n"
   ]
  },
  {
   "cell_type": "code",
   "execution_count": null,
   "id": "9157fbc7",
   "metadata": {},
   "outputs": [
    {
     "name": "stdout",
     "output_type": "stream",
     "text": [
      "['llamo', 'Mikel', 'Tapiador']\n"
     ]
    }
   ],
   "source": [
    "def filtrar_palabras_largas(cadena_texto,numero_letras):\n",
    "    palabras = cadena_texto.split()\n",
    "    resultado = list(filter(lambda x: len(x)> numero_letras,palabras))\n",
    "    return resultado\n",
    "\n",
    "texto = \"Hola me llamo Mikel Tapiador\" \n",
    "\n",
    "print(filtrar_palabras_largas(texto,4))"
   ]
  },
  {
   "cell_type": "markdown",
   "id": "a724fece",
   "metadata": {},
   "source": [
    "17. Crea una función que tome una lista de dígitos y devuelva el número correspondiente. Por ejemplo, [5,7,2]\n",
    "corresponde al número quinientos setenta y dos (572). Usa la función reduce()"
   ]
  },
  {
   "cell_type": "code",
   "execution_count": null,
   "id": "79ad0719",
   "metadata": {},
   "outputs": [
    {
     "name": "stdout",
     "output_type": "stream",
     "text": [
      "572\n"
     ]
    }
   ],
   "source": [
    "from functools import reduce\n",
    "\n",
    "def lista_a_numero(digitos):\n",
    "    \n",
    "    return reduce(lambda x, y: x * 10 + y, digitos)\n",
    "\n",
    "lista = [5,7,2]\n",
    "print(lista_a_numero(lista))"
   ]
  },
  {
   "cell_type": "markdown",
   "id": "fc9a6e9a",
   "metadata": {},
   "source": [
    "18. Escribe un programa en Python que cree una lista de diccionarios que contenga información de estudiantes\n",
    "(nombre, edad, calificación) y use la función filter para extraer a los estudiantes con una calificación mayor o igual a\n",
    "90. Usa la función filter()"
   ]
  },
  {
   "cell_type": "code",
   "execution_count": null,
   "id": "f5f0b0ad",
   "metadata": {},
   "outputs": [
    {
     "data": {
      "text/plain": [
       "[{'nombre': 'Mikel', 'edad': 28, 'calificacion': 97},\n",
       " {'nombre': 'Mel', 'edad': 27, 'calificacion': 98}]"
      ]
     },
     "execution_count": 22,
     "metadata": {},
     "output_type": "execute_result"
    }
   ],
   "source": [
    "estudiantes = [\n",
    "    {\"nombre\": \"Mikel\", \"edad\": 28, \"calificacion\": 97},\n",
    "    {\"nombre\": \"Susana\", \"edad\": 22, \"calificacion\": 66},\n",
    "    {\"nombre\": \"Luis\", \"edad\": 44,\"calificacion\": 77 },\n",
    "    {\"nombre\": \"Mel\", \"edad\": 27, \"calificacion\": 98},\n",
    "]\n",
    "\n",
    "aprobados = list(filter(lambda estudiante: estudiante[\"calificacion\"]>= 90,estudiantes))\n",
    "aprobados"
   ]
  },
  {
   "cell_type": "markdown",
   "id": "73a80f53",
   "metadata": {},
   "source": [
    "19. Crea una función lambda que filtre los números impares de una lista dada."
   ]
  },
  {
   "cell_type": "code",
   "execution_count": null,
   "id": "0fddd168",
   "metadata": {},
   "outputs": [
    {
     "data": {
      "text/plain": [
       "[1, 3, 5]"
      ]
     },
     "execution_count": 24,
     "metadata": {},
     "output_type": "execute_result"
    }
   ],
   "source": [
    "lista1 = [1,2,3,4,5,6]\n",
    "\n",
    "def numeros_impares(lista_numeros):\n",
    "\n",
    "    return list(filter(lambda numero : numero %2 !=0,lista_numeros))\n",
    "\n",
    "numeros_impares(lista1)"
   ]
  },
  {
   "cell_type": "markdown",
   "id": "02628109",
   "metadata": {},
   "source": [
    "20. Para una lista con elementos tipo integer y string obtén una nueva lista sólo con los valores int. Usa la función\n",
    "filter()\n"
   ]
  },
  {
   "cell_type": "code",
   "execution_count": null,
   "id": "03a6ad1d",
   "metadata": {},
   "outputs": [
    {
     "data": {
      "text/plain": [
       "[44, 55, 6, 99]"
      ]
     },
     "execution_count": 28,
     "metadata": {},
     "output_type": "execute_result"
    }
   ],
   "source": [
    "def solo_numeros(lista):\n",
    "\n",
    "    return(list(filter(lambda elemento: type(elemento)== int,lista)))\n",
    "\n",
    "lista1= [\"Hola\", 44,55,6, \"me\", 99, \"llamo\", \"Mikel\"]\n",
    "\n",
    "solo_numeros(lista1)"
   ]
  },
  {
   "cell_type": "markdown",
   "id": "fe9dd653",
   "metadata": {},
   "source": [
    "21. Crea una función que calcule el cubo de un número dado mediante una función lambda"
   ]
  },
  {
   "cell_type": "code",
   "execution_count": null,
   "id": "10192e23",
   "metadata": {},
   "outputs": [
    {
     "data": {
      "text/plain": [
       "64"
      ]
     },
     "execution_count": 37,
     "metadata": {},
     "output_type": "execute_result"
    }
   ],
   "source": [
    "def calcular_cubo(numero):\n",
    "    resultado= lambda numero: numero **3\n",
    "\n",
    "    return resultado(numero)\n",
    "\n",
    "calcular_cubo(4)"
   ]
  },
  {
   "cell_type": "markdown",
   "id": "bc7def32",
   "metadata": {},
   "source": [
    "22. Dada una lista numérica, obtén el producto total de los valores de dicha lista.Usa la función reduce() ."
   ]
  },
  {
   "cell_type": "code",
   "execution_count": null,
   "id": "a8987686",
   "metadata": {},
   "outputs": [
    {
     "data": {
      "text/plain": [
       "720"
      ]
     },
     "execution_count": 42,
     "metadata": {},
     "output_type": "execute_result"
    }
   ],
   "source": [
    "lista1 = [1,2,3,4,5,6]\n",
    "\n",
    "producto_total = reduce(lambda a,b:a*b,lista1)\n",
    "producto_total"
   ]
  },
  {
   "cell_type": "markdown",
   "id": "25c476c6",
   "metadata": {},
   "source": [
    "23. Concatena una lista de palabras.Usa la función reduce() .\n"
   ]
  },
  {
   "cell_type": "code",
   "execution_count": null,
   "id": "bb8a065c",
   "metadata": {},
   "outputs": [
    {
     "data": {
      "text/plain": [
       "'HolamellamoMikel'"
      ]
     },
     "execution_count": 47,
     "metadata": {},
     "output_type": "execute_result"
    }
   ],
   "source": [
    "lista_palabras = [\"Hola\", \"me\", \"llamo\", \"Mikel\"]\n",
    "\n",
    "concatena = reduce(lambda x,y: x+y, lista_palabras)\n",
    "concatena"
   ]
  },
  {
   "cell_type": "markdown",
   "id": "df773f7a",
   "metadata": {},
   "source": [
    "24. Calcula la diferencia total en los valores de una lista. Usa la función reduce() .\n"
   ]
  },
  {
   "cell_type": "code",
   "execution_count": null,
   "id": "569ea932",
   "metadata": {},
   "outputs": [
    {
     "data": {
      "text/plain": [
       "-19"
      ]
     },
     "execution_count": 46,
     "metadata": {},
     "output_type": "execute_result"
    }
   ],
   "source": [
    "lista1 = [1,2,3,4,5,6]\n",
    "\n",
    "diferencia_total = reduce(lambda x, y: x-y, lista1)\n",
    "diferencia_total"
   ]
  },
  {
   "cell_type": "markdown",
   "id": "7037b177",
   "metadata": {},
   "source": [
    "25. Crea una función que cuente el número de caracteres en una cadena de texto dada."
   ]
  },
  {
   "cell_type": "code",
   "execution_count": null,
   "id": "dc46abec",
   "metadata": {},
   "outputs": [
    {
     "data": {
      "text/plain": [
       "16"
      ]
     },
     "execution_count": 52,
     "metadata": {},
     "output_type": "execute_result"
    }
   ],
   "source": [
    "def contar_caracteres(cadena_texto):\n",
    "    contador = 0\n",
    "    cadena_sin_espacios= cadena_texto.replace(\" \", \"\")\n",
    "    for letra in cadena_sin_espacios:\n",
    "        contador +=1\n",
    "    return contador\n",
    "\n",
    "texto= \"Hola me llamo Mikel\"\n",
    "contar_caracteres(texto)\n",
    "\n"
   ]
  },
  {
   "cell_type": "markdown",
   "id": "63fed246",
   "metadata": {},
   "source": [
    "26. Crea una función lambda que calcule el resto de la división entre dos números dados.\n"
   ]
  },
  {
   "cell_type": "code",
   "execution_count": null,
   "id": "5dd441b6",
   "metadata": {},
   "outputs": [
    {
     "data": {
      "text/plain": [
       "1"
      ]
     },
     "execution_count": 57,
     "metadata": {},
     "output_type": "execute_result"
    }
   ],
   "source": [
    "def resto_division(a,b):\n",
    "\n",
    "    resto = lambda a,b : a%b\n",
    "\n",
    "    return resto(a,b)\n",
    "\n",
    "resto_division(11,5)"
   ]
  },
  {
   "cell_type": "markdown",
   "id": "98f1686d",
   "metadata": {},
   "source": [
    "27. Crea una función que calcule el promedio de una lista de números."
   ]
  },
  {
   "cell_type": "code",
   "execution_count": null,
   "id": "936e4f5c",
   "metadata": {},
   "outputs": [
    {
     "data": {
      "text/plain": [
       "3.5"
      ]
     },
     "execution_count": 58,
     "metadata": {},
     "output_type": "execute_result"
    }
   ],
   "source": [
    "def promedio(lista):\n",
    "    promedio = sum(lista)/len(lista)\n",
    "\n",
    "    return promedio\n",
    "\n",
    "lista1 = lista1 = [1,2,3,4,5,6]\n",
    "\n",
    "promedio(lista1)    "
   ]
  },
  {
   "cell_type": "markdown",
   "id": "d1932f83",
   "metadata": {},
   "source": [
    "28. Crea una función que busque y devuelva el primer elemento duplicado en una lista dada."
   ]
  },
  {
   "cell_type": "code",
   "execution_count": null,
   "id": "4d036f93",
   "metadata": {},
   "outputs": [
    {
     "data": {
      "text/plain": [
       "5"
      ]
     },
     "execution_count": 65,
     "metadata": {},
     "output_type": "execute_result"
    }
   ],
   "source": [
    "def primer_duplicado(lista):\n",
    "    vistos = set()\n",
    "    for elemento in lista:\n",
    "        \n",
    "        if elemento in vistos:\n",
    "            return elemento\n",
    "        vistos.add(elemento)\n",
    "       \n",
    "    \n",
    "\n",
    "\n",
    "ejemplo = [3,2,5,5, 4, 2]\n",
    "primer_duplicado(ejemplo)\n"
   ]
  },
  {
   "cell_type": "markdown",
   "id": "8f4ae4d6",
   "metadata": {},
   "source": [
    "29. Crea una función que convierta una variable en una cadena de texto y enmascare todos los caracteres con el\n",
    "carácter '#', excepto los últimos cuatro.\n"
   ]
  },
  {
   "cell_type": "code",
   "execution_count": null,
   "id": "4fc4ced0",
   "metadata": {},
   "outputs": [
    {
     "name": "stdout",
     "output_type": "stream",
     "text": [
      "#####6789\n",
      "######jklñ\n"
     ]
    }
   ],
   "source": [
    "def enmascarar(variable):\n",
    "    string = str(variable)\n",
    "    longitud = len(string)\n",
    "\n",
    "    return '#' * (longitud - 4) + string[-4:]\n",
    "\n",
    "a = 123456789\n",
    "b = \"asdfghjklñ\"\n",
    "\n",
    "print(enmascarar(a))\n",
    "print(enmascarar(b))"
   ]
  },
  {
   "cell_type": "markdown",
   "id": "3fd49a15",
   "metadata": {},
   "source": [
    "30. Crea una función que determine si dos palabras son anagramas, es decir, si están formadas por las mismas letras\n",
    "pero en diferente orden.\n"
   ]
  },
  {
   "cell_type": "code",
   "execution_count": null,
   "id": "c33e0271",
   "metadata": {},
   "outputs": [
    {
     "name": "stdout",
     "output_type": "stream",
     "text": [
      "las palabras Amor y roma son anagramas \n",
      "las palabras Hola y AdIos no son anagramas \n"
     ]
    }
   ],
   "source": [
    "def anagrama(palabra1,palabra2):\n",
    "    palabra1_minus = palabra1.lower()\n",
    "    palabra2_minus = palabra2.lower()\n",
    "\n",
    "    if sorted(palabra1_minus) == sorted(palabra2_minus):\n",
    "        return (f'las palabras {palabra1} y {palabra2} son anagramas ')\n",
    "    else:\n",
    "        return (f'las palabras {palabra1} y {palabra2} no son anagramas ')\n",
    "    \n",
    "print(anagrama(\"Amor\",\"roma\"))\n",
    "print(anagrama(\"Hola\",\"AdIos\"))"
   ]
  },
  {
   "cell_type": "markdown",
   "id": "ce051844",
   "metadata": {},
   "source": [
    "31. Crea una función que solicite al usuario ingresar una lista de nombres y luego solicite un nombre para buscar en\n",
    "esa lista. Si el nombre está en la lista, se imprime un mensaje indicando que fue encontrado, de lo contrario, se\n",
    "lanza una excepción.\n"
   ]
  },
  {
   "cell_type": "code",
   "execution_count": 19,
   "id": "2c258164",
   "metadata": {},
   "outputs": [
    {
     "name": "stdout",
     "output_type": "stream",
     "text": [
      "Error: El nombre caballo no esta en la lista\n"
     ]
    }
   ],
   "source": [
    "def buscar_nombre():\n",
    "    try: \n",
    "        entrada = input(\"Introduce una lista de nombres:\")\n",
    "        lista_nombres = [nombre for nombre in entrada.split()]\n",
    "        nombre_objetivo = input(\"Introduce el nombre que deseas buscar:\")\n",
    "        if nombre_objetivo in lista_nombres:\n",
    "            print(f\"El nombre {nombre_objetivo} está en la lista\")\n",
    "        else: \n",
    "            raise ValueError(f\"El nombre {nombre_objetivo} no esta en la lista\")\n",
    "    except ValueError as e:\n",
    "        print(f\"Error: {e}\")\n",
    "        \n",
    "\n",
    "buscar_nombre()"
   ]
  },
  {
   "cell_type": "markdown",
   "id": "9584f738",
   "metadata": {},
   "source": [
    "32. Crea una función que tome un nombre completo y una lista de empleados, busque el nombre completo en la lista y\n",
    "devuelve el puesto del empleado si está en la lista, de lo contrario, devuelve un mensaje indicando que la persona\n",
    "no trabaja aquí"
   ]
  },
  {
   "cell_type": "code",
   "execution_count": null,
   "id": "25ff431d",
   "metadata": {},
   "outputs": [
    {
     "data": {
      "text/plain": [
       "'Ingeniera de Software'"
      ]
     },
     "execution_count": 111,
     "metadata": {},
     "output_type": "execute_result"
    }
   ],
   "source": [
    "def  encontrar_puesto(nombre_completo, lista_empleados):\n",
    "    for empleado in lista_empleados:\n",
    "        if empleado[\"nombre\"]== nombre_completo:\n",
    "            return empleado[\"puesto\"]\n",
    "    return print(f\"{nombre_completo} no trabaja aqui\")\n",
    "\n",
    "\n",
    "equipo = [\n",
    "    {'nombre': 'Ana García',     'puesto': 'Ingeniera de Software'},\n",
    "    {'nombre': 'Luis Martínez',  'puesto': 'Product Manager'},\n",
    "    {'nombre': 'María Rodríguez','puesto': 'Diseñadora UX'},\n",
    "]\n",
    "\n",
    "encontrar_puesto('Ana García', equipo)"
   ]
  },
  {
   "cell_type": "markdown",
   "id": "251018ea",
   "metadata": {},
   "source": [
    "33. Crea una función lambda que sume elementos correspondientes de dos listas dadas.\n"
   ]
  },
  {
   "cell_type": "code",
   "execution_count": null,
   "id": "f5b7b85c",
   "metadata": {},
   "outputs": [
    {
     "name": "stdout",
     "output_type": "stream",
     "text": [
      "[5, 7, 9]\n"
     ]
    }
   ],
   "source": [
    "\n",
    "sumar_listas = lambda a, b: list(map(lambda x, y: x + y, a, b))\n",
    "\n",
    "\n",
    "lista1 = [1, 2, 3]\n",
    "lista2 = [4, 5, 6]\n",
    "print(sumar_listas(lista1, lista2))  \n"
   ]
  },
  {
   "cell_type": "markdown",
   "id": "40744d09",
   "metadata": {},
   "source": [
    "34. Crea la clase Arbol , define un árbol genérico con un tronco y ramas como atributos. Los métodos disponibles son:\n",
    "crecer_tronco , nueva_rama , crecer_ramas , quitar_rama e info_arbol . El objetivo es implementar estos métodos para\n",
    "manipular la estructura del árbol.\n",
    "Código a seguir:\n",
    "1. Inicializar un árbol con un tronco de longitud 1 y una lista vacía de ramas.\n",
    "2. Implementar el método crecer_tronco para aumentar la longitud del tronco en una unidad.\n",
    "3. Implementar el método nueva_rama para agregar una nueva rama de longitud 1 a la lista de ramas.\n",
    "4. Implementar el método crecer_ramas para aumentar en una unidad la longitud de todas las ramas existentes.\n",
    "5. Implementar el método quitar_rama para eliminar una rama en una posición específica.\n",
    "6. Implementar el método\n",
    "info_arbol para devolver información sobre la longitud del tronco, el número de ramas y las longitudes de las\n",
    "mismas.\n",
    "Caso de uso:\n",
    "1. Crear un árbol.\n",
    "2. Hacer crecer el tronco del árbol una unidad.\n",
    "3. Añadir una nueva rama al árbol.\n",
    "4. Hacer crecer todas las ramas del árbol una unidad.\n",
    "5. Añadir dos nuevas ramas al árbol.\n",
    "6. Retirar la rama situada en la posición 2.\n",
    "7. Obtener información sobre el árbol.\n"
   ]
  },
  {
   "cell_type": "code",
   "execution_count": null,
   "id": "744e92b7",
   "metadata": {},
   "outputs": [
    {
     "name": "stdout",
     "output_type": "stream",
     "text": [
      "(1, 0, [])\n",
      "(2, 0, [])\n",
      "(2, 1, [1])\n",
      "(2, 1, [2])\n",
      "(2, 2, [2, 1])\n",
      "(2, 3, [2, 1, 1])\n",
      "(2, 2, [2, 1])\n"
     ]
    }
   ],
   "source": [
    "class Arbol:\n",
    "    def __init__(self):\n",
    "        self.tronco = 1\n",
    "        self.ramas = []\n",
    "\n",
    "    def crecer_tronco(self):\n",
    "        self.tronco += 1\n",
    "\n",
    "    def nueva_rama(self):\n",
    "        self.ramas.append(1)\n",
    "\n",
    "    def crecer_ramas(self):\n",
    "        self.ramas = [r + 1 for r in self.ramas]\n",
    "\n",
    "    def quitar_rama(self, i):\n",
    "        self.ramas.pop(i)\n",
    "\n",
    "    def info_arbol(self):\n",
    "        return self.tronco, len(self.ramas), self.ramas\n",
    "\n",
    "\n",
    "\n",
    "sauce = Arbol()\n",
    "print(sauce.info_arbol())              \n",
    "sauce.crecer_tronco()\n",
    "print(sauce.info_arbol())        \n",
    "sauce.nueva_rama() \n",
    "print(sauce.info_arbol())         \n",
    "sauce.crecer_ramas()  \n",
    "print(sauce.info_arbol())       \n",
    "sauce.nueva_rama()    \n",
    "print(sauce.info_arbol())       \n",
    "sauce.nueva_rama() \n",
    "print(sauce.info_arbol())          \n",
    "sauce.quitar_rama(2)       \n",
    "print(sauce.info_arbol())  \n"
   ]
  },
  {
   "cell_type": "markdown",
   "id": "981427e9",
   "metadata": {},
   "source": [
    "36. Crea la clase UsuarioBanco ,representa a un usuario de un banco con su nombre, saldo y si tiene o no cuenta\n",
    "corriente. Proporciona métodos para realizar operaciones como retirar dinero, transferir dinero desde otro usuario y\n",
    "agregar dinero al saldo.\n",
    "Código a seguir:\n",
    "1. Inicializar un usuario con su nombre, saldo y si tiene o no cuenta corriente mediante True y False .\n",
    "2. Implementar el método retirar_dinero para retirar dinero del saldo del usuario. Lanzará un error en caso de no\n",
    "poder hacerse.\n",
    "3. Implementar el método transferir_dinero para realizar una transferencia desde otro usuario al usuario actual.\n",
    "Lanzará un error en caso de no poder hacerse.\n",
    "4. Implementar el método agregar_dinero para agregar dinero al saldo del usuario.\n",
    "Caso de uso:\n",
    "1. Crear dos usuarios: \"Alicia\" con saldo inicial de 100 y \"Bob\" con saldo inicial de 50, ambos con cuenta corriente.\n",
    "PROYECTO LÓGICA: Katas de Python 3\n",
    "2. Agregar 20 unidades de saldo de \"Bob\".\n",
    "3. Hacer una transferencia de 80 unidades desde \"Bob\" a \"Alicia\".\n",
    "4. Retirar 50 unidades de saldo a \"Alicia\"."
   ]
  },
  {
   "cell_type": "code",
   "execution_count": null,
   "id": "fdcf071e",
   "metadata": {},
   "outputs": [
    {
     "name": "stdout",
     "output_type": "stream",
     "text": [
      "70\n",
      "Error en transferencia: Saldo insuficiente\n",
      "50\n"
     ]
    }
   ],
   "source": [
    "class UsuarioBanco:\n",
    "    def __init__(self,nombre,saldo,tiene_cuenta_corriente):\n",
    "        self.nombre = nombre\n",
    "        self.saldo = saldo\n",
    "        self.tiene_cuenta_corriente = tiene_cuenta_corriente\n",
    "    def retirar_dinero(self,cantidad):\n",
    "       if not self.tiene_cuenta_corriente:\n",
    "            raise ValueError(f\"{self.nombre} no tiene cuenta corriente\")\n",
    "       if cantidad > self.saldo:\n",
    "            raise ValueError(\"Saldo insuficiente\")\n",
    "       self.saldo -= cantidad\n",
    "    def agregar_dinero(self, cantidad):\n",
    "        self.saldo += cantidad\n",
    "    def transferir_dinero(self,cantidad,destinatario):\n",
    "        self.retirar_dinero(cantidad)\n",
    "        destinatario.agregar_dinero(cantidad)\n",
    "\n",
    "alicia = UsuarioBanco(\"Alicia\", 100, True)\n",
    "bob    = UsuarioBanco(\"Bob\",    50,  True)\n",
    "\n",
    "bob.agregar_dinero(20)\n",
    "print(bob.saldo)\n",
    "\n",
    "try:\n",
    "    bob.transferir_dinero(80, alicia)\n",
    "    print(\"Transferencia realizada\")\n",
    "except ValueError as e:\n",
    "    print(\"Error en transferencia:\", e)\n",
    "\n",
    "alicia.retirar_dinero(50)\n",
    "\n",
    "print(alicia.saldo)"
   ]
  },
  {
   "cell_type": "markdown",
   "id": "c5f67db5",
   "metadata": {},
   "source": [
    "37. Crea una función llamada procesar_texto que procesa un texto según la opción especificada: contar_palabras ,\n",
    "reemplazar_palabras , eliminar_palabra . Estas opciones son otras funciones que tenemos que definir primero y llamar dentro\n",
    "de la función procesar_texto .\n",
    "Código a seguir:\n",
    "1. Crear una función contar_palabras para contar el número de veces que aparece cada palabra en el texto. Tiene\n",
    "que devolver un diccionario.\n",
    "2. Crear una función reemplazar_palabras para remplazar una palabra_original del texto por una palabra_nueva . Tiene\n",
    "que devolver el texto con el remplazo de palabras.\n",
    "3. Crear una función eliminar_palabra para eliminar una palabra del texto. Tiene que devolver el texto con la palabra\n",
    "eliminada.\n",
    "4. Crear la función procesar_texto que tome un texto, una opción(entre \"contar\", \"reemplazar\", \"eliminar\") y un\n",
    "número de argumentos variable según la opción indicada.\n",
    "Caso de uso:\n",
    "Comprueba el funcionamiento completo de la función procesar_texto\n",
    "\n",
    "\n"
   ]
  },
  {
   "cell_type": "code",
   "execution_count": null,
   "id": "0b0ea107",
   "metadata": {},
   "outputs": [
    {
     "name": "stdout",
     "output_type": "stream",
     "text": [
      "{'El': 1, 'viento': 3, 'recorre': 1, 'las': 1, 'calles,': 1, 'el': 2, 'trae': 1, 'consigo': 1, 'la': 1, 'brisa': 1, 'marina.Respiro': 1, 'profundo': 1, 'y': 1, 'dejo': 1, 'que': 1, 'refresque': 1, 'mis': 1, 'pensamientos.': 1}\n",
      "El viento recorre las mareas, el viento trae consigo la brisa marina.Respiro profundo y dejo que el viento refresque mis pensamientos.\n",
      "El recorre las calles, el trae consigo la brisa marina.Respiro profundo y dejo que el refresque mis pensamientos.\n"
     ]
    }
   ],
   "source": [
    "def contar_palabras(texto):\n",
    "    diccionario_vacío= {}\n",
    "    for palabra in texto.split():\n",
    "        diccionario_vacío[palabra]= diccionario_vacío.get(palabra,0)+1\n",
    "    return diccionario_vacío\n",
    "\n",
    "def reemplazar_palabras(texto,palabra_original, palabra_nueva):\n",
    "    return texto.replace(palabra_original, palabra_nueva)\n",
    "\n",
    "def eliminar_palabra(texto,palabra):\n",
    "    return ' '.join(w for w in texto.split() if w != palabra)\n",
    "\n",
    "def procesar_texto(texto, opcion, *args):\n",
    "    if opcion == \"contar\":\n",
    "        return contar_palabras(texto)\n",
    "    elif opcion == \"reemplazar\":\n",
    "        return reemplazar_palabras(texto, *args)\n",
    "    elif opcion == \"eliminar\":\n",
    "        return eliminar_palabra(texto, *args)\n",
    "    else:\n",
    "        raise ValueError(\"Opción no válida\")\n",
    "\n",
    "poema = \"El viento recorre las calles, el viento trae consigo la brisa marina.Respiro profundo y dejo que el viento refresque mis pensamientos.\"\n",
    "\n",
    "print(procesar_texto(poema,\"contar\"))\n",
    "print(procesar_texto(poema,\"reemplazar\", \"calles\", \"mareas\"))\n",
    "print(procesar_texto(poema,\"eliminar\", \"viento\"))"
   ]
  },
  {
   "cell_type": "markdown",
   "id": "aeeaae2f",
   "metadata": {},
   "source": [
    "38. Genera un programa que nos diga si es de noche, de día o tarde según la hora proporcionada por el usuario.\n"
   ]
  },
  {
   "cell_type": "code",
   "execution_count": null,
   "id": "d1471846",
   "metadata": {},
   "outputs": [
    {
     "name": "stdout",
     "output_type": "stream",
     "text": [
      "a las 17 es de tarde\n"
     ]
    }
   ],
   "source": [
    "def tarde_noche_dia(hora):\n",
    "    if 0 < hora < 24:\n",
    "        if 7 < hora < 16:\n",
    "            print(f\"a las {hora} es de día\")\n",
    "        elif 16 < hora < 20:\n",
    "            print(f\"a las {hora} es de tarde\")\n",
    "        else: print(f\"a las {hora} es de noche\")\n",
    "    else:\n",
    "        raise ValueError(\"introduce una hora del día\")\n",
    "    \n",
    "hora_del_dia = int(input(\"introduce que hora es, en formato 24 horas\"))\n",
    "tarde_noche_dia(hora_del_dia)"
   ]
  },
  {
   "cell_type": "markdown",
   "id": "79ec5a71",
   "metadata": {},
   "source": [
    "39. Escribe un programa que determine qué calificación en texto tiene un alumno en base a su calificación numérica.\n",
    "Las reglas de calificación son:\n",
    "- 0 - 69 insuficiente\n",
    "- 70 - 79 bien\n",
    "- 80 - 89 muy bien\n",
    "- 90 - 100 excelente\n"
   ]
  },
  {
   "cell_type": "code",
   "execution_count": null,
   "id": "ed2bf444",
   "metadata": {},
   "outputs": [
    {
     "name": "stdout",
     "output_type": "stream",
     "text": [
      "la nota del alumno es excelente\n"
     ]
    }
   ],
   "source": [
    "def nota_alumno(nota):\n",
    "        if 0 < nota < 100:\n",
    "            if 0 < nota <= 69:\n",
    "                print(f\"la nota del alumno es insuficiente\")\n",
    "            elif 69 < nota <=79:\n",
    "                print(f\"la nota del alumno es bien\")\n",
    "            elif 79 < nota <= 89:\n",
    "                print(f\"la nota del alumno es muy bien\")\n",
    "            else:\n",
    "                print(f\"la nota del alumno es excelente\")\n",
    "        else:\n",
    "            raise ValueError(\"la nota tiene que estar entre 0 y 100\")\n",
    "\n",
    "nota_alumno(int(input(\"Introduce la nota del alumno\")))\n",
    "        "
   ]
  },
  {
   "cell_type": "markdown",
   "id": "6b307bda",
   "metadata": {},
   "source": [
    "40. Escribe una función que tome dos parámetros: figura (una cadena que puede ser \"rectangulo\" , \"circulo\" o\n",
    "\"triangulo\" ) y datos (una tupla con los datos necesarios para calcular el área de la figura).\n"
   ]
  },
  {
   "cell_type": "code",
   "execution_count": null,
   "id": "6ba4f93c",
   "metadata": {},
   "outputs": [
    {
     "name": "stdout",
     "output_type": "stream",
     "text": [
      "15\n",
      "12.566370614359172\n",
      "12.0\n"
     ]
    }
   ],
   "source": [
    "import math\n",
    "\n",
    "def area_figura(figura, datos):\n",
    "   \n",
    "    if figura == \"rectangulo\":\n",
    "        base, altura = datos\n",
    "        return base * altura\n",
    "\n",
    "    elif figura == \"circulo\":\n",
    "        (radio,) = datos\n",
    "        return math.pi * radio**2\n",
    "\n",
    "    elif figura == \"triangulo\":\n",
    "        base, altura = datos\n",
    "        return base * altura / 2\n",
    "\n",
    "    else:\n",
    "        raise ValueError(f\"Figura '{figura}' no soportada\")\n",
    "\n",
    "\n",
    "\n",
    "print(area_figura(\"rectangulo\", (5, 3)))  \n",
    "\n",
    "\n",
    "print(area_figura(\"circulo\", (2,)))        \n",
    "\n",
    "\n",
    "print(area_figura(\"triangulo\", (4, 6)))  \n"
   ]
  },
  {
   "cell_type": "markdown",
   "id": "3ba34fe9",
   "metadata": {},
   "source": [
    "41. En este ejercicio, se te pedirá que escribas un programa en Python que utilice condicionales para determinar el\n",
    "monto final de una compra en una tienda en línea, después de aplicar un descuento. El programa debe hacer lo\n",
    "siguiente:\n",
    "1. Solicita al usuario que ingrese el precio original de un artículo.\n",
    "2. Pregunta al usuario si tiene un cupón de descuento (respuesta sí o no).\n",
    "3. Si el usuario responde que sí, solicita que ingrese el valor del cupón de descuento.\n",
    "4. Aplica el descuento al precio original del artículo, siempre y cuando el valor del cupón sea válido (es decir, mayor\n",
    "a cero). Por ejemplo, descuento de 15€.\n",
    "5. Muestra el precio final de la compra, teniendo en cuenta el descuento aplicado o sin él.\n",
    "6. Recuerda utilizar estructuras de control de flujo como if, elif y else para llevar a cabo estas acciones en tu\n",
    "programa de Python."
   ]
  },
  {
   "cell_type": "code",
   "execution_count": null,
   "id": "da60483d",
   "metadata": {},
   "outputs": [],
   "source": [
    "\n",
    "precio_original = float(input(\"Introduce el precio original del artículo (€): \"))\n",
    "\n",
    "\n",
    "tiene_cupon = input(\"¿Tienes un cupón de descuento? (sí o no): \").strip().lower()\n",
    "\n",
    "\n",
    "if tiene_cupon == \"sí\" or tiene_cupon == \"si\":\n",
    "    valor_cupon = float(input(\"Introduce el valor del cupón de descuento (€): \"))\n",
    "    \n",
    "    if valor_cupon > 0:\n",
    "        precio_final = precio_original - valor_cupon\n",
    "        \n",
    "        if precio_final < 0:\n",
    "            precio_final = 0\n",
    "        print(f\"Precio final después de aplicar el descuento: {precio_final} €\")\n",
    "    else:\n",
    "        print(\"El valor del cupón no es válido. No se aplica descuento.\")\n",
    "        print(f\"Precio final: {precio_original} €\")\n",
    "\n",
    "else:\n",
    "    print(f\"Precio final sin descuento: {precio_original} €\")\n"
   ]
  }
 ],
 "metadata": {
  "kernelspec": {
   "display_name": "Python 3",
   "language": "python",
   "name": "python3"
  },
  "language_info": {
   "codemirror_mode": {
    "name": "ipython",
    "version": 3
   },
   "file_extension": ".py",
   "mimetype": "text/x-python",
   "name": "python",
   "nbconvert_exporter": "python",
   "pygments_lexer": "ipython3",
   "version": "3.11.9"
  }
 },
 "nbformat": 4,
 "nbformat_minor": 5
}
